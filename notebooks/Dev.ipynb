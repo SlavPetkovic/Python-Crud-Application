{
 "cells": [
  {
   "cell_type": "code",
   "execution_count": 1,
   "outputs": [],
   "source": [
    "# Import dependencies\n",
    "import mysql.connector\n",
    "import json\n",
    "import sqlalchemy\n",
    "\n",
    "# read database config file\n",
    "with open(\"parameters/config.json\") as config:\n",
    "    param = json.load(config)\n",
    "\n",
    "# settting up the function with parameters\n",
    "def dataupdate(MetricId, DataPoint, EffectiveBeginDate, EffectiveEndDate, CreatedDate,CreatedBy):\n",
    "    # Connecting to data warehouse\n",
    "    try:\n",
    "        engine = sqlalchemy.create_engine('mysql+mysqlconnector://{0}:{1}@{2}/{3}'.\n",
    "                                          format(param['Teletron'][0]['user'],\n",
    "                                                 param['Teletron'][0]['password'],\n",
    "                                                 param['Teletron'][0]['host'],\n",
    "                                                 param['Teletron'][0]['database']), echo=False)\n",
    "\n",
    "        # Cleaning the data from existing tables MetricValues and Metrics\n",
    "        Epi_con = engine.connect()\n",
    "        # If connection is established, push the data into datawarehouse\n",
    "        if Epi_con.connect():\n",
    "            try:\n",
    "                sql = \"\"\"INSERT INTO SlavsTest (MetricId, DataPoint, EffectiveBeginDate, EffectiveEndDate, CreatedDate,CreatedBy)\n",
    "                            VALUES (%s, %s, %s, %s,%s,%s) \"\"\"\n",
    "\n",
    "                record = (MetricId, DataPoint, EffectiveBeginDate, EffectiveEndDate, CreatedDate,CreatedBy)\n",
    "                Epi_con.execute(sql,record)\n",
    "                Epi_con.close()\n",
    "                engine.dispose()\n",
    "            except OSError as e:\n",
    "                print(e)\n",
    "    except OSError as e:\n",
    "        print(e)\n"
   ],
   "metadata": {
    "collapsed": false,
    "pycharm": {
     "name": "#%%\n"
    }
   }
  },
  {
   "cell_type": "code",
   "execution_count": 11,
   "outputs": [
    {
     "data": {
      "text/plain": "   Id RecordDate  Temperature  Pressure CreatedBy\n0   1  2/23/2022           75      1000      Slav",
      "text/html": "<div>\n<style scoped>\n    .dataframe tbody tr th:only-of-type {\n        vertical-align: middle;\n    }\n\n    .dataframe tbody tr th {\n        vertical-align: top;\n    }\n\n    .dataframe thead th {\n        text-align: right;\n    }\n</style>\n<table border=\"1\" class=\"dataframe\">\n  <thead>\n    <tr style=\"text-align: right;\">\n      <th></th>\n      <th>Id</th>\n      <th>RecordDate</th>\n      <th>Temperature</th>\n      <th>Pressure</th>\n      <th>CreatedBy</th>\n    </tr>\n  </thead>\n  <tbody>\n    <tr>\n      <th>0</th>\n      <td>1</td>\n      <td>2/23/2022</td>\n      <td>75</td>\n      <td>1000</td>\n      <td>Slav</td>\n    </tr>\n  </tbody>\n</table>\n</div>"
     },
     "execution_count": 11,
     "metadata": {},
     "output_type": "execute_result"
    }
   ],
   "source": [
    "# Importing Dependencies\n",
    "import mysql.connector\n",
    "import pandas as pd\n",
    "import json\n",
    "import sqlalchemy\n",
    "from sqlalchemy import create_engine, MetaData, Table\n",
    "from mysql.connector import Error\n",
    "\n",
    "sample = pd.read_csv(\"data/Sample.csv\")\n",
    "\n",
    "sample"
   ],
   "metadata": {
    "collapsed": false,
    "pycharm": {
     "name": "#%%\n"
    }
   }
  },
  {
   "cell_type": "code",
   "execution_count": 14,
   "outputs": [
    {
     "name": "stderr",
     "output_type": "stream",
     "text": [
      "C:\\Users\\slavo\\PycharmProjects\\Python-Crud-Application\\venv\\lib\\site-packages\\pandas\\io\\sql.py:1663: UserWarning: The provided table name 'Crud' is not found exactly as such in the database after writing the table, possibly due to case sensitivity issues. Consider using lower case table names.\n",
      "  warnings.warn(msg, UserWarning)\n"
     ]
    }
   ],
   "source": [
    "\n",
    "with open(\"parameters/config.json\") as config:\n",
    "    param = json.load(config)\n",
    "\n",
    "# Connecting to data warehouse\n",
    "    try:\n",
    "        engine = sqlalchemy.create_engine('mysql+mysqlconnector://{0}:{1}@{2}/{3}'.\n",
    "                                          format(param['Teletron'][0]['user'],\n",
    "                                                 param['Teletron'][0]['password'],\n",
    "                                                 param['Teletron'][0]['host'],\n",
    "                                                 param['Teletron'][0]['database']), echo=False)\n",
    "\n",
    "        # Cleaning the data from existing tables MetricValues and Metrics\n",
    "\n",
    "        Teletron_con = engine.connect()\n",
    "        Teletron_con.execute(\"\"\"TRUNCATE TABLE crudexample\"\"\")\n",
    "        # If connection is established, push the data into datawarehouse\n",
    "        if Teletron_con.connect():\n",
    "            try:\n",
    "                sample.to_sql('crudexample', con=Teletron_con, if_exists='append',chunksize=1000, index=False)\n",
    "                Teletron_con.close()\n",
    "                engine.dispose()\n",
    "            except OSError as e:\n",
    "                print(e)\n",
    "    except OSError as e:\n",
    "                print(e)\n"
   ],
   "metadata": {
    "collapsed": false,
    "pycharm": {
     "name": "#%%\n"
    }
   }
  },
  {
   "cell_type": "code",
   "execution_count": 16,
   "outputs": [
    {
     "name": "stdout",
     "output_type": "stream",
     "text": [
      "Python-Crud-Application\n",
      "├── .git\n",
      "│   ├── config\n",
      "│   ├── description\n",
      "│   ├── HEAD\n",
      "│   ├── hooks\n",
      "│   ├── index\n",
      "│   ├── info\n",
      "│   ├── logs\n",
      "│   ├── objects\n",
      "│   ├── packed-refs\n",
      "│   └── refs\n",
      "├── .gitignore\n",
      "├── .idea\n",
      "│   ├── .gitignore\n",
      "│   ├── DataEntryApp.iml\n",
      "│   ├── inspectionProfiles\n",
      "│   ├── misc.xml\n",
      "│   ├── modules.xml\n",
      "│   ├── Python-Crud-Application.iml\n",
      "│   ├── vcs.xml\n",
      "│   └── workspace.xml\n",
      "├── data\n",
      "│   ├── CRUD-1.png\n",
      "│   ├── CRUD.jpeg\n",
      "│   ├── CRUD.png\n",
      "│   └── Sample.csv\n",
      "├── GUI.py\n",
      "├── lib\n",
      "│   ├── DataImport.py\n",
      "│   ├── Tools.py\n",
      "│   └── __pycache__\n",
      "├── LICENSE\n",
      "├── main.py\n",
      "├── notebooks\n",
      "│   └── Dev.ipynb\n",
      "├── parameters\n",
      "│   └── config.json\n",
      "├── README.md\n",
      "└── venv\n",
      "    ├── .gitignore\n",
      "    ├── etc\n",
      "    ├── include\n",
      "    ├── Lib\n",
      "    ├── pyvenv.cfg\n",
      "    ├── Scripts\n",
      "    └── share\n",
      "\\n19 directories, 27 files\n"
     ]
    }
   ],
   "source": [
    "from pathlib import Path\n",
    "from itertools import islice\n",
    "\n",
    "def tree(dir_path: Path, level: int=-1, limit_to_directories: bool=False,length_limit: int=1000):\n",
    "    # prefix components:\n",
    "    space = '    '\n",
    "    branch = '│   '\n",
    "    # pointers:\n",
    "    tee = '├── '\n",
    "    last = '└── '\n",
    "    \"\"\"Given a directory Path object print a visual tree structure\"\"\"\n",
    "    dir_path = Path(dir_path) # accept string coerceable to Path\n",
    "    files = 0\n",
    "    directories = 0\n",
    "    def inner(dir_path: Path, prefix: str='', level=-1):\n",
    "        nonlocal files, directories\n",
    "        if not level:\n",
    "            return # 0, stop iterating\n",
    "        if limit_to_directories:\n",
    "            contents = [d for d in dir_path.iterdir() if d.is_dir()]\n",
    "        else:\n",
    "            contents = list(dir_path.iterdir())\n",
    "        pointers = [tee] * (len(contents) - 1) + [last]\n",
    "        for pointer, path in zip(pointers, contents):\n",
    "            if path.is_dir():\n",
    "                yield prefix + pointer + path.name\n",
    "                directories += 1\n",
    "                extension = branch if pointer == tee else space\n",
    "                yield from inner(path, prefix=prefix+extension, level=level-1)\n",
    "            elif not limit_to_directories:\n",
    "                yield prefix + pointer + path.name\n",
    "                files += 1\n",
    "    print(dir_path.name)\n",
    "    iterator = inner(dir_path, level=level)\n",
    "    for line in islice(iterator, length_limit):\n",
    "        print(line)\n",
    "    if next(iterator, None):\n",
    "        print(f'... length_limit, {length_limit}, reached, counted:')\n",
    "    print(f'\\\\n{directories} directories' + (f', {files} files' if files else ''))\n",
    "\n",
    "tree(Path.home() / 'PycharmProjects/Python-Crud-Application', level=2)"
   ],
   "metadata": {
    "collapsed": false,
    "pycharm": {
     "name": "#%%\n"
    }
   }
  }
 ],
 "metadata": {
  "kernelspec": {
   "display_name": "Python 3",
   "language": "python",
   "name": "python3"
  },
  "language_info": {
   "codemirror_mode": {
    "name": "ipython",
    "version": 2
   },
   "file_extension": ".py",
   "mimetype": "text/x-python",
   "name": "python",
   "nbconvert_exporter": "python",
   "pygments_lexer": "ipython2",
   "version": "2.7.6"
  }
 },
 "nbformat": 4,
 "nbformat_minor": 0
}