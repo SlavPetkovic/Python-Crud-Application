{
 "cells": [
  {
   "cell_type": "code",
   "execution_count": 12,
   "outputs": [],
   "source": [
    "# Import dependencies\n",
    "import mysql.connector\n",
    "import json\n",
    "import sqlalchemy\n",
    "\n",
    "# read database config file\n",
    "with open(\"parameters/config.json\") as config:\n",
    "    param = json.load(config)\n",
    "\n",
    "# settting up the function with parameters\n",
    "def dataupdate(MetricId, DataPoint, EffectiveBeginDate, EffectiveEndDate, CreatedDate,CreatedBy):\n",
    "    # Connecting to data warehouse\n",
    "    try:\n",
    "        engine = sqlalchemy.create_engine('mysql+mysqlconnector://{0}:{1}@{2}/{3}'.\n",
    "                                          format(param['EpiProd'][0]['user'],\n",
    "                                                 param['EpiProd'][0]['password'],\n",
    "                                                 param['EpiProd'][0]['host'],\n",
    "                                                 param['EpiProd'][0]['database']), echo=False)\n",
    "\n",
    "        # Cleaning the data from existing tables MetricValues and Metrics\n",
    "        Epi_con = engine.connect()\n",
    "        # If connection is established, push the data into datawarehouse\n",
    "        if Epi_con.connect():\n",
    "            try:\n",
    "                sql = \"\"\"INSERT INTO SlavsTest (MetricId, DataPoint, EffectiveBeginDate, EffectiveEndDate, CreatedDate,CreatedBy)\n",
    "                            VALUES (%s, %s, %s, %s,%s,%s) \"\"\"\n",
    "\n",
    "                record = (MetricId, DataPoint, EffectiveBeginDate, EffectiveEndDate, CreatedDate,CreatedBy)\n",
    "                Epi_con.execute(sql,record)\n",
    "                Epi_con.close()\n",
    "                engine.dispose()\n",
    "            except OSError as e:\n",
    "                print(e)\n",
    "    except OSError as e:\n",
    "\n",
    "        print(e)\n"
   ],
   "metadata": {
    "collapsed": false,
    "pycharm": {
     "name": "#%%\n"
    }
   }
  },
  {
   "cell_type": "code",
   "execution_count": null,
   "outputs": [],
   "source": [
    "import tkinter as tk\n",
    "\n",
    "root= tk.Tk()\n",
    "\n",
    "canvas1 = tk.Canvas(root, width = 400, height = 300)\n",
    "canvas1.pack()\n",
    "\n",
    "entry1 = tk.Entry (root)\n",
    "canvas1.create_window(200, 140, window=entry1)\n",
    "\n",
    "def getSquareRoot ():\n",
    "    x1 = entry1.get()\n",
    "\n",
    "    label1 = tk.Label(root, text= float(x1)**0.5)\n",
    "    canvas1.create_window(200, 230, window=label1)\n",
    "\n",
    "button1 = tk.Button(text='Get the Square Root', command=getSquareRoot)\n",
    "canvas1.create_window(200, 180, window=button1)\n",
    "\n",
    "root.mainloop()\n"
   ],
   "metadata": {
    "collapsed": false,
    "pycharm": {
     "name": "#%%\n"
    }
   }
  }
 ],
 "metadata": {
  "kernelspec": {
   "display_name": "Python 3",
   "language": "python",
   "name": "python3"
  },
  "language_info": {
   "codemirror_mode": {
    "name": "ipython",
    "version": 2
   },
   "file_extension": ".py",
   "mimetype": "text/x-python",
   "name": "python",
   "nbconvert_exporter": "python",
   "pygments_lexer": "ipython2",
   "version": "2.7.6"
  }
 },
 "nbformat": 4,
 "nbformat_minor": 0
}